{
 "cells": [
  {
   "cell_type": "code",
   "execution_count": 22,
   "metadata": {},
   "outputs": [],
   "source": [
    "import numpy as np\n",
    "import matplotlib.pyplot as plt\n",
    "import pandas as pd"
   ]
  },
  {
   "cell_type": "code",
   "execution_count": 23,
   "metadata": {},
   "outputs": [
    {
     "data": {
      "text/html": [
       "<div>\n",
       "<style scoped>\n",
       "    .dataframe tbody tr th:only-of-type {\n",
       "        vertical-align: middle;\n",
       "    }\n",
       "\n",
       "    .dataframe tbody tr th {\n",
       "        vertical-align: top;\n",
       "    }\n",
       "\n",
       "    .dataframe thead th {\n",
       "        text-align: right;\n",
       "    }\n",
       "</style>\n",
       "<table border=\"1\" class=\"dataframe\">\n",
       "  <thead>\n",
       "    <tr style=\"text-align: right;\">\n",
       "      <th></th>\n",
       "      <th>Row Number</th>\n",
       "      <th>Road Name</th>\n",
       "      <th>Location</th>\n",
       "      <th>Latitude</th>\n",
       "      <th>Longitude</th>\n",
       "      <th>Distance from Police Station (km)</th>\n",
       "      <th>Crime Rate</th>\n",
       "      <th>CCtv Cameras</th>\n",
       "    </tr>\n",
       "  </thead>\n",
       "  <tbody>\n",
       "    <tr>\n",
       "      <th>0</th>\n",
       "      <td>1</td>\n",
       "      <td>Aarey Road goregaon east</td>\n",
       "      <td>Goregaon</td>\n",
       "      <td>19.165983</td>\n",
       "      <td>72.860949</td>\n",
       "      <td>0.5</td>\n",
       "      <td>1.5</td>\n",
       "      <td>5</td>\n",
       "    </tr>\n",
       "    <tr>\n",
       "      <th>1</th>\n",
       "      <td>2</td>\n",
       "      <td>Arun Kumar Vaidya Marg</td>\n",
       "      <td>Goregaon</td>\n",
       "      <td>19.175651</td>\n",
       "      <td>72.872580</td>\n",
       "      <td>0.2</td>\n",
       "      <td>1.2</td>\n",
       "      <td>3</td>\n",
       "    </tr>\n",
       "    <tr>\n",
       "      <th>2</th>\n",
       "      <td>3</td>\n",
       "      <td>Yashodham Vidyala Marg</td>\n",
       "      <td>Goregaon</td>\n",
       "      <td>19.174472</td>\n",
       "      <td>72.866000</td>\n",
       "      <td>0.3</td>\n",
       "      <td>1.8</td>\n",
       "      <td>6</td>\n",
       "    </tr>\n",
       "    <tr>\n",
       "      <th>3</th>\n",
       "      <td>4</td>\n",
       "      <td>Mohan Gokhale Rd East</td>\n",
       "      <td>Goregaon</td>\n",
       "      <td>19.169686</td>\n",
       "      <td>72.860132</td>\n",
       "      <td>0.4</td>\n",
       "      <td>1.1</td>\n",
       "      <td>4</td>\n",
       "    </tr>\n",
       "    <tr>\n",
       "      <th>4</th>\n",
       "      <td>5</td>\n",
       "      <td>Aba Karmarkar Rd East</td>\n",
       "      <td>Goregaon</td>\n",
       "      <td>19.170541</td>\n",
       "      <td>72.864597</td>\n",
       "      <td>0.6</td>\n",
       "      <td>1.3</td>\n",
       "      <td>3</td>\n",
       "    </tr>\n",
       "    <tr>\n",
       "      <th>...</th>\n",
       "      <td>...</td>\n",
       "      <td>...</td>\n",
       "      <td>...</td>\n",
       "      <td>...</td>\n",
       "      <td>...</td>\n",
       "      <td>...</td>\n",
       "      <td>...</td>\n",
       "      <td>...</td>\n",
       "    </tr>\n",
       "    <tr>\n",
       "      <th>86</th>\n",
       "      <td>87</td>\n",
       "      <td>Kulupwadi Road</td>\n",
       "      <td>Borivali</td>\n",
       "      <td>19.230084</td>\n",
       "      <td>72.864180</td>\n",
       "      <td>0.3</td>\n",
       "      <td>0.9</td>\n",
       "      <td>3</td>\n",
       "    </tr>\n",
       "    <tr>\n",
       "      <th>87</th>\n",
       "      <td>88</td>\n",
       "      <td>National Park-Kaneri Caves</td>\n",
       "      <td>Borivali</td>\n",
       "      <td>19.230383</td>\n",
       "      <td>72.865414</td>\n",
       "      <td>0.2</td>\n",
       "      <td>0.7</td>\n",
       "      <td>2</td>\n",
       "    </tr>\n",
       "    <tr>\n",
       "      <th>88</th>\n",
       "      <td>89</td>\n",
       "      <td>Mahatma Gandhi Road</td>\n",
       "      <td>Borivali</td>\n",
       "      <td>19.231420</td>\n",
       "      <td>72.861570</td>\n",
       "      <td>0.1</td>\n",
       "      <td>0.6</td>\n",
       "      <td>2</td>\n",
       "    </tr>\n",
       "    <tr>\n",
       "      <th>89</th>\n",
       "      <td>90</td>\n",
       "      <td>Jain Mandir Road East</td>\n",
       "      <td>Borivali</td>\n",
       "      <td>19.234157</td>\n",
       "      <td>72.858456</td>\n",
       "      <td>0.3</td>\n",
       "      <td>1.2</td>\n",
       "      <td>3</td>\n",
       "    </tr>\n",
       "    <tr>\n",
       "      <th>90</th>\n",
       "      <td>91</td>\n",
       "      <td>Swami Vivekanand Marg East</td>\n",
       "      <td>Borivali</td>\n",
       "      <td>19.233999</td>\n",
       "      <td>72.858159</td>\n",
       "      <td>0.2</td>\n",
       "      <td>0.4</td>\n",
       "      <td>1</td>\n",
       "    </tr>\n",
       "  </tbody>\n",
       "</table>\n",
       "<p>91 rows × 8 columns</p>\n",
       "</div>"
      ],
      "text/plain": [
       "    Row Number                   Road Name  Location   Latitude  Longitude  \\\n",
       "0            1    Aarey Road goregaon east  Goregaon  19.165983  72.860949   \n",
       "1            2      Arun Kumar Vaidya Marg  Goregaon  19.175651  72.872580   \n",
       "2            3      Yashodham Vidyala Marg  Goregaon  19.174472  72.866000   \n",
       "3            4       Mohan Gokhale Rd East  Goregaon  19.169686  72.860132   \n",
       "4            5       Aba Karmarkar Rd East  Goregaon  19.170541  72.864597   \n",
       "..         ...                         ...       ...        ...        ...   \n",
       "86          87              Kulupwadi Road  Borivali  19.230084  72.864180   \n",
       "87          88  National Park-Kaneri Caves  Borivali  19.230383  72.865414   \n",
       "88          89         Mahatma Gandhi Road  Borivali  19.231420  72.861570   \n",
       "89          90       Jain Mandir Road East  Borivali  19.234157  72.858456   \n",
       "90          91  Swami Vivekanand Marg East  Borivali  19.233999  72.858159   \n",
       "\n",
       "    Distance from Police Station (km)  Crime Rate  CCtv Cameras  \n",
       "0                                 0.5         1.5             5  \n",
       "1                                 0.2         1.2             3  \n",
       "2                                 0.3         1.8             6  \n",
       "3                                 0.4         1.1             4  \n",
       "4                                 0.6         1.3             3  \n",
       "..                                ...         ...           ...  \n",
       "86                                0.3         0.9             3  \n",
       "87                                0.2         0.7             2  \n",
       "88                                0.1         0.6             2  \n",
       "89                                0.3         1.2             3  \n",
       "90                                0.2         0.4             1  \n",
       "\n",
       "[91 rows x 8 columns]"
      ]
     },
     "execution_count": 23,
     "metadata": {},
     "output_type": "execute_result"
    }
   ],
   "source": [
    "df = pd.read_csv(\"anaums2.csv\")\n",
    "df"
   ]
  },
  {
   "cell_type": "code",
   "execution_count": 24,
   "metadata": {},
   "outputs": [
    {
     "name": "stdout",
     "output_type": "stream",
     "text": [
      "<class 'pandas.core.frame.DataFrame'>\n",
      "RangeIndex: 91 entries, 0 to 90\n",
      "Data columns (total 8 columns):\n",
      " #   Column                             Non-Null Count  Dtype  \n",
      "---  ------                             --------------  -----  \n",
      " 0   Row Number                         91 non-null     int64  \n",
      " 1   Road Name                          91 non-null     object \n",
      " 2   Location                           91 non-null     object \n",
      " 3   Latitude                           91 non-null     float64\n",
      " 4   Longitude                          91 non-null     float64\n",
      " 5   Distance from Police Station (km)  91 non-null     float64\n",
      " 6   Crime Rate                         91 non-null     float64\n",
      " 7   CCtv Cameras                       91 non-null     int64  \n",
      "dtypes: float64(4), int64(2), object(2)\n",
      "memory usage: 5.8+ KB\n"
     ]
    }
   ],
   "source": [
    "df.info()"
   ]
  },
  {
   "cell_type": "code",
   "execution_count": 25,
   "metadata": {},
   "outputs": [
    {
     "data": {
      "text/plain": [
       "(91, 8)"
      ]
     },
     "execution_count": 25,
     "metadata": {},
     "output_type": "execute_result"
    }
   ],
   "source": [
    "df.shape"
   ]
  },
  {
   "cell_type": "code",
   "execution_count": 26,
   "metadata": {},
   "outputs": [],
   "source": [
    "del df['Row Number']"
   ]
  },
  {
   "cell_type": "code",
   "execution_count": 27,
   "metadata": {},
   "outputs": [
    {
     "data": {
      "text/plain": [
       "(91, 7)"
      ]
     },
     "execution_count": 27,
     "metadata": {},
     "output_type": "execute_result"
    }
   ],
   "source": [
    "df.shape"
   ]
  },
  {
   "cell_type": "code",
   "execution_count": 28,
   "metadata": {},
   "outputs": [
    {
     "data": {
      "text/plain": [
       "Road Name                            0\n",
       "Location                             0\n",
       "Latitude                             0\n",
       "Longitude                            0\n",
       "Distance from Police Station (km)    0\n",
       "Crime Rate                           0\n",
       "CCtv Cameras                         0\n",
       "dtype: int64"
      ]
     },
     "execution_count": 28,
     "metadata": {},
     "output_type": "execute_result"
    }
   ],
   "source": [
    "df.isnull().sum()"
   ]
  },
  {
   "cell_type": "code",
   "execution_count": 29,
   "metadata": {},
   "outputs": [
    {
     "data": {
      "text/plain": [
       "Road Name                  Location   Latitude   Longitude  Distance from Police Station (km)  Crime Rate  CCtv Cameras\n",
       "14-11 Anandwadi Road East  Goregaon   19.188173  72.864117  0.3                                1.3         3               1\n",
       "Rd No. 4 Pandurang Wadi 1  Goregaon   19.172497  72.852008  0.3                                1.4         4               1\n",
       "Ramchandra Lane West       Malad      19.188989  72.834131  0.3                                0.3         1               1\n",
       "Raheja Marg East           Goregaon   19.180482  72.875330  0.2                                0.5         2               1\n",
       "RSC Road No. 51 West       Kandivali  19.218356  72.825849  0.1                                0.3         1               1\n",
       "                                                                                                                          ..\n",
       "Jain Mandir Road East      Goregaon   19.188007  72.861208  0.1                                0.3         1               1\n",
       "                           Borivali   19.234157  72.858456  0.3                                1.2         3               1\n",
       "IC Colony Road West        Borivali   19.242179  72.844932  0.2                                1.1         4               1\n",
       "Happy Home Road            Borivali   19.238870  72.857743  0.5                                2.0         6               1\n",
       "Yogi Nagar Marg            Borivali   19.233960  72.837320  0.2                                1.2         2               1\n",
       "Length: 91, dtype: int64"
      ]
     },
     "execution_count": 29,
     "metadata": {},
     "output_type": "execute_result"
    }
   ],
   "source": [
    "df.value_counts()"
   ]
  },
  {
   "cell_type": "code",
   "execution_count": 30,
   "metadata": {},
   "outputs": [
    {
     "data": {
      "text/plain": [
       "Western Express Highway       2\n",
       "Jain Mandir Road East         2\n",
       "Aarey Road goregaon east      1\n",
       "Dahisar east                  1\n",
       "Paradise Road                 1\n",
       "                             ..\n",
       "Tanaji Nagar Road East        1\n",
       "Kurar Village Road            1\n",
       "Shivaji Nagar Road East       1\n",
       "Santaji Dhanaji Marg East     1\n",
       "Swami Vivekanand Marg East    1\n",
       "Name: Road Name, Length: 89, dtype: int64"
      ]
     },
     "execution_count": 30,
     "metadata": {},
     "output_type": "execute_result"
    }
   ],
   "source": [
    "df[\"Road Name\"].value_counts()"
   ]
  },
  {
   "cell_type": "code",
   "execution_count": 31,
   "metadata": {},
   "outputs": [
    {
     "data": {
      "text/html": [
       "<div>\n",
       "<style scoped>\n",
       "    .dataframe tbody tr th:only-of-type {\n",
       "        vertical-align: middle;\n",
       "    }\n",
       "\n",
       "    .dataframe tbody tr th {\n",
       "        vertical-align: top;\n",
       "    }\n",
       "\n",
       "    .dataframe thead th {\n",
       "        text-align: right;\n",
       "    }\n",
       "</style>\n",
       "<table border=\"1\" class=\"dataframe\">\n",
       "  <thead>\n",
       "    <tr style=\"text-align: right;\">\n",
       "      <th></th>\n",
       "      <th>Latitude</th>\n",
       "      <th>Longitude</th>\n",
       "      <th>Distance from Police Station (km)</th>\n",
       "      <th>Crime Rate</th>\n",
       "      <th>CCtv Cameras</th>\n",
       "    </tr>\n",
       "  </thead>\n",
       "  <tbody>\n",
       "    <tr>\n",
       "      <th>count</th>\n",
       "      <td>91.000000</td>\n",
       "      <td>91.000000</td>\n",
       "      <td>91.000000</td>\n",
       "      <td>91.000000</td>\n",
       "      <td>91.000000</td>\n",
       "    </tr>\n",
       "    <tr>\n",
       "      <th>mean</th>\n",
       "      <td>19.221855</td>\n",
       "      <td>72.857986</td>\n",
       "      <td>0.284615</td>\n",
       "      <td>1.012088</td>\n",
       "      <td>2.901099</td>\n",
       "    </tr>\n",
       "    <tr>\n",
       "      <th>std</th>\n",
       "      <td>0.064851</td>\n",
       "      <td>0.015509</td>\n",
       "      <td>0.142145</td>\n",
       "      <td>0.512474</td>\n",
       "      <td>1.732403</td>\n",
       "    </tr>\n",
       "    <tr>\n",
       "      <th>min</th>\n",
       "      <td>19.164870</td>\n",
       "      <td>72.814911</td>\n",
       "      <td>0.100000</td>\n",
       "      <td>0.300000</td>\n",
       "      <td>1.000000</td>\n",
       "    </tr>\n",
       "    <tr>\n",
       "      <th>25%</th>\n",
       "      <td>19.177952</td>\n",
       "      <td>72.845732</td>\n",
       "      <td>0.200000</td>\n",
       "      <td>0.550000</td>\n",
       "      <td>2.000000</td>\n",
       "    </tr>\n",
       "    <tr>\n",
       "      <th>50%</th>\n",
       "      <td>19.200147</td>\n",
       "      <td>72.862149</td>\n",
       "      <td>0.300000</td>\n",
       "      <td>1.100000</td>\n",
       "      <td>3.000000</td>\n",
       "    </tr>\n",
       "    <tr>\n",
       "      <th>75%</th>\n",
       "      <td>19.237257</td>\n",
       "      <td>72.870325</td>\n",
       "      <td>0.350000</td>\n",
       "      <td>1.400000</td>\n",
       "      <td>4.000000</td>\n",
       "    </tr>\n",
       "    <tr>\n",
       "      <th>max</th>\n",
       "      <td>19.496335</td>\n",
       "      <td>72.879343</td>\n",
       "      <td>0.900000</td>\n",
       "      <td>2.500000</td>\n",
       "      <td>10.000000</td>\n",
       "    </tr>\n",
       "  </tbody>\n",
       "</table>\n",
       "</div>"
      ],
      "text/plain": [
       "        Latitude  Longitude  Distance from Police Station (km)  Crime Rate  \\\n",
       "count  91.000000  91.000000                          91.000000   91.000000   \n",
       "mean   19.221855  72.857986                           0.284615    1.012088   \n",
       "std     0.064851   0.015509                           0.142145    0.512474   \n",
       "min    19.164870  72.814911                           0.100000    0.300000   \n",
       "25%    19.177952  72.845732                           0.200000    0.550000   \n",
       "50%    19.200147  72.862149                           0.300000    1.100000   \n",
       "75%    19.237257  72.870325                           0.350000    1.400000   \n",
       "max    19.496335  72.879343                           0.900000    2.500000   \n",
       "\n",
       "       CCtv Cameras  \n",
       "count     91.000000  \n",
       "mean       2.901099  \n",
       "std        1.732403  \n",
       "min        1.000000  \n",
       "25%        2.000000  \n",
       "50%        3.000000  \n",
       "75%        4.000000  \n",
       "max       10.000000  "
      ]
     },
     "execution_count": 31,
     "metadata": {},
     "output_type": "execute_result"
    }
   ],
   "source": [
    "df.describe()"
   ]
  },
  {
   "cell_type": "code",
   "execution_count": 32,
   "metadata": {},
   "outputs": [
    {
     "data": {
      "text/plain": [
       "Index(['Road Name', 'Location', 'Latitude', 'Longitude',\n",
       "       'Distance from Police Station (km)', 'Crime Rate', 'CCtv Cameras'],\n",
       "      dtype='object')"
      ]
     },
     "execution_count": 32,
     "metadata": {},
     "output_type": "execute_result"
    }
   ],
   "source": [
    "df.columns"
   ]
  },
  {
   "cell_type": "code",
   "execution_count": null,
   "metadata": {},
   "outputs": [],
   "source": []
  },
  {
   "cell_type": "code",
   "execution_count": 33,
   "metadata": {},
   "outputs": [],
   "source": [
    "X=df.iloc[:,[4,5,6]].values"
   ]
  },
  {
   "cell_type": "code",
   "execution_count": 34,
   "metadata": {},
   "outputs": [
    {
     "data": {
      "text/plain": [
       "array([[ 0.5,  1.5,  5. ],\n",
       "       [ 0.2,  1.2,  3. ],\n",
       "       [ 0.3,  1.8,  6. ],\n",
       "       [ 0.4,  1.1,  4. ],\n",
       "       [ 0.6,  1.3,  3. ],\n",
       "       [ 0.7,  1.8,  4. ],\n",
       "       [ 0.4,  1.1,  3. ],\n",
       "       [ 0.2,  0.3,  1. ],\n",
       "       [ 0.4,  0.6,  2. ],\n",
       "       [ 0.3,  1.2,  2. ],\n",
       "       [ 0.1,  0.4,  1. ],\n",
       "       [ 0.4,  2. ,  6. ],\n",
       "       [ 0.3,  0.5,  2. ],\n",
       "       [ 0.7,  0.8,  3. ],\n",
       "       [ 0.2,  0.5,  2. ],\n",
       "       [ 0.4,  1.5,  4. ],\n",
       "       [ 0.2,  0.6,  1. ],\n",
       "       [ 0.2,  0.4,  1. ],\n",
       "       [ 0.3,  1.4,  4. ],\n",
       "       [ 0.5,  1.1,  3. ],\n",
       "       [ 0.1,  1.2,  5. ],\n",
       "       [ 0.4,  1.5,  3. ],\n",
       "       [ 0.2,  1.6,  4. ],\n",
       "       [ 0.2,  0.5,  2. ],\n",
       "       [ 0.3,  0.6,  2. ],\n",
       "       [ 0.1,  0.3,  1. ],\n",
       "       [ 0.2,  1.4,  4. ],\n",
       "       [ 0.2,  0.4,  1. ],\n",
       "       [ 0.3,  1. ,  3. ],\n",
       "       [ 0.4,  1.5,  6. ],\n",
       "       [ 0.2,  0.6,  1. ],\n",
       "       [ 0.3,  1.3,  3. ],\n",
       "       [ 0.1,  0.7,  2. ],\n",
       "       [ 0.4,  1.5,  4. ],\n",
       "       [ 0.2,  0.5,  2. ],\n",
       "       [ 0.2,  1.5,  3. ],\n",
       "       [ 0.4,  1.8,  6. ],\n",
       "       [ 0.3,  0.3,  1. ],\n",
       "       [ 0.1,  0.6,  2. ],\n",
       "       [ 0.3,  1.2,  3. ],\n",
       "       [ 0.2,  0.4,  1. ],\n",
       "       [ 0.3,  1.1,  4. ],\n",
       "       [ 0.3,  0.7,  2. ],\n",
       "       [ 0.3,  2. ,  6. ],\n",
       "       [ 0.9,  2.5, 10. ],\n",
       "       [ 0.4,  1.8,  4. ],\n",
       "       [ 0.1,  1.2,  3. ],\n",
       "       [ 0.3,  0.8,  2. ],\n",
       "       [ 0.3,  1.5,  5. ],\n",
       "       [ 0.4,  0.5,  1. ],\n",
       "       [ 0.2,  1.2,  2. ],\n",
       "       [ 0.3,  0.4,  1. ],\n",
       "       [ 0.2,  0.5,  2. ],\n",
       "       [ 0.1,  0.3,  1. ],\n",
       "       [ 0.2,  1.2,  3. ],\n",
       "       [ 0.3,  1.1,  4. ],\n",
       "       [ 0.2,  0.5,  2. ],\n",
       "       [ 0.1,  0.6,  2. ],\n",
       "       [ 0.4,  0.4,  1. ],\n",
       "       [ 0.2,  1.2,  3. ],\n",
       "       [ 0.3,  0.8,  2. ],\n",
       "       [ 0.3,  1.5,  5. ],\n",
       "       [ 0.4,  0.5,  1. ],\n",
       "       [ 0.2,  1.2,  2. ],\n",
       "       [ 0.1,  1.8,  4. ],\n",
       "       [ 0.3,  0.3,  1. ],\n",
       "       [ 0.2,  0.9,  3. ],\n",
       "       [ 0.2,  1.4,  6. ],\n",
       "       [ 0.3,  0.7,  2. ],\n",
       "       [ 0.3,  1.3,  4. ],\n",
       "       [ 0.1,  1.5,  3. ],\n",
       "       [ 0.4,  0.9,  2. ],\n",
       "       [ 0.3,  1.4,  4. ],\n",
       "       [ 0.3,  0.7,  1. ],\n",
       "       [ 0.2,  0.6,  2. ],\n",
       "       [ 0.1,  0.5,  1. ],\n",
       "       [ 0.5,  2. ,  6. ],\n",
       "       [ 0.4,  0.6,  1. ],\n",
       "       [ 0.3,  1.5,  7. ],\n",
       "       [ 0.2,  1.1,  4. ],\n",
       "       [ 0.3,  0.8,  2. ],\n",
       "       [ 0.3,  1.5,  5. ],\n",
       "       [ 0.4,  0.5,  1. ],\n",
       "       [ 0.2,  1.2,  2. ],\n",
       "       [ 0.2,  1.8,  4. ],\n",
       "       [ 0.1,  0.3,  1. ],\n",
       "       [ 0.3,  0.9,  3. ],\n",
       "       [ 0.2,  0.7,  2. ],\n",
       "       [ 0.1,  0.6,  2. ],\n",
       "       [ 0.3,  1.2,  3. ],\n",
       "       [ 0.2,  0.4,  1. ]])"
      ]
     },
     "execution_count": 34,
     "metadata": {},
     "output_type": "execute_result"
    }
   ],
   "source": [
    "X"
   ]
  },
  {
   "cell_type": "code",
   "execution_count": 35,
   "metadata": {},
   "outputs": [
    {
     "name": "stderr",
     "output_type": "stream",
     "text": [
      "C:\\Users\\VARUN\\AppData\\Roaming\\Python\\Python311\\site-packages\\sklearn\\cluster\\_kmeans.py:870: FutureWarning: The default value of `n_init` will change from 10 to 'auto' in 1.4. Set the value of `n_init` explicitly to suppress the warning\n",
      "  warnings.warn(\n",
      "C:\\Users\\VARUN\\AppData\\Roaming\\Python\\Python311\\site-packages\\sklearn\\cluster\\_kmeans.py:870: FutureWarning: The default value of `n_init` will change from 10 to 'auto' in 1.4. Set the value of `n_init` explicitly to suppress the warning\n",
      "  warnings.warn(\n",
      "C:\\Users\\VARUN\\AppData\\Roaming\\Python\\Python311\\site-packages\\sklearn\\cluster\\_kmeans.py:870: FutureWarning: The default value of `n_init` will change from 10 to 'auto' in 1.4. Set the value of `n_init` explicitly to suppress the warning\n",
      "  warnings.warn(\n",
      "C:\\Users\\VARUN\\AppData\\Roaming\\Python\\Python311\\site-packages\\sklearn\\cluster\\_kmeans.py:870: FutureWarning: The default value of `n_init` will change from 10 to 'auto' in 1.4. Set the value of `n_init` explicitly to suppress the warning\n",
      "  warnings.warn(\n"
     ]
    },
    {
     "name": "stderr",
     "output_type": "stream",
     "text": [
      "C:\\Users\\VARUN\\AppData\\Roaming\\Python\\Python311\\site-packages\\sklearn\\cluster\\_kmeans.py:870: FutureWarning: The default value of `n_init` will change from 10 to 'auto' in 1.4. Set the value of `n_init` explicitly to suppress the warning\n",
      "  warnings.warn(\n",
      "C:\\Users\\VARUN\\AppData\\Roaming\\Python\\Python311\\site-packages\\sklearn\\cluster\\_kmeans.py:870: FutureWarning: The default value of `n_init` will change from 10 to 'auto' in 1.4. Set the value of `n_init` explicitly to suppress the warning\n",
      "  warnings.warn(\n",
      "C:\\Users\\VARUN\\AppData\\Roaming\\Python\\Python311\\site-packages\\sklearn\\cluster\\_kmeans.py:870: FutureWarning: The default value of `n_init` will change from 10 to 'auto' in 1.4. Set the value of `n_init` explicitly to suppress the warning\n",
      "  warnings.warn(\n",
      "C:\\Users\\VARUN\\AppData\\Roaming\\Python\\Python311\\site-packages\\sklearn\\cluster\\_kmeans.py:870: FutureWarning: The default value of `n_init` will change from 10 to 'auto' in 1.4. Set the value of `n_init` explicitly to suppress the warning\n",
      "  warnings.warn(\n",
      "C:\\Users\\VARUN\\AppData\\Roaming\\Python\\Python311\\site-packages\\sklearn\\cluster\\_kmeans.py:870: FutureWarning: The default value of `n_init` will change from 10 to 'auto' in 1.4. Set the value of `n_init` explicitly to suppress the warning\n",
      "  warnings.warn(\n",
      "C:\\Users\\VARUN\\AppData\\Roaming\\Python\\Python311\\site-packages\\sklearn\\cluster\\_kmeans.py:870: FutureWarning: The default value of `n_init` will change from 10 to 'auto' in 1.4. Set the value of `n_init` explicitly to suppress the warning\n",
      "  warnings.warn(\n",
      "C:\\Users\\VARUN\\AppData\\Roaming\\Python\\Python311\\site-packages\\sklearn\\cluster\\_kmeans.py:870: FutureWarning: The default value of `n_init` will change from 10 to 'auto' in 1.4. Set the value of `n_init` explicitly to suppress the warning\n",
      "  warnings.warn(\n",
      "C:\\Users\\VARUN\\AppData\\Roaming\\Python\\Python311\\site-packages\\sklearn\\cluster\\_kmeans.py:870: FutureWarning: The default value of `n_init` will change from 10 to 'auto' in 1.4. Set the value of `n_init` explicitly to suppress the warning\n",
      "  warnings.warn(\n",
      "C:\\Users\\VARUN\\AppData\\Roaming\\Python\\Python311\\site-packages\\sklearn\\cluster\\_kmeans.py:870: FutureWarning: The default value of `n_init` will change from 10 to 'auto' in 1.4. Set the value of `n_init` explicitly to suppress the warning\n",
      "  warnings.warn(\n",
      "C:\\Users\\VARUN\\AppData\\Roaming\\Python\\Python311\\site-packages\\sklearn\\cluster\\_kmeans.py:870: FutureWarning: The default value of `n_init` will change from 10 to 'auto' in 1.4. Set the value of `n_init` explicitly to suppress the warning\n",
      "  warnings.warn(\n",
      "C:\\Users\\VARUN\\AppData\\Roaming\\Python\\Python311\\site-packages\\sklearn\\cluster\\_kmeans.py:870: FutureWarning: The default value of `n_init` will change from 10 to 'auto' in 1.4. Set the value of `n_init` explicitly to suppress the warning\n",
      "  warnings.warn(\n",
      "C:\\Users\\VARUN\\AppData\\Roaming\\Python\\Python311\\site-packages\\sklearn\\cluster\\_kmeans.py:870: FutureWarning: The default value of `n_init` will change from 10 to 'auto' in 1.4. Set the value of `n_init` explicitly to suppress the warning\n",
      "  warnings.warn(\n",
      "C:\\Users\\VARUN\\AppData\\Roaming\\Python\\Python311\\site-packages\\sklearn\\cluster\\_kmeans.py:870: FutureWarning: The default value of `n_init` will change from 10 to 'auto' in 1.4. Set the value of `n_init` explicitly to suppress the warning\n",
      "  warnings.warn(\n"
     ]
    },
    {
     "name": "stdout",
     "output_type": "stream",
     "text": [
      "[295.56505494505495, 100.98863737486096, 49.16257936507935, 30.929337606837606, 18.748127289377287, 9.775864845938374, 6.02503151260504, 4.9545358985699535, 4.011329131652661, 3.680535898569954, 2.8061666666666674, 2.4266666666666663, 2.3132399267399264, 1.9333827838827844, 1.7563608058608053, 1.4805018315018315, 1.370525641025641, 1.223966117216117, 1.1145436507936508]\n"
     ]
    },
    {
     "name": "stderr",
     "output_type": "stream",
     "text": [
      "C:\\Users\\VARUN\\AppData\\Roaming\\Python\\Python311\\site-packages\\sklearn\\cluster\\_kmeans.py:870: FutureWarning: The default value of `n_init` will change from 10 to 'auto' in 1.4. Set the value of `n_init` explicitly to suppress the warning\n",
      "  warnings.warn(\n",
      "C:\\Users\\VARUN\\AppData\\Roaming\\Python\\Python311\\site-packages\\sklearn\\cluster\\_kmeans.py:870: FutureWarning: The default value of `n_init` will change from 10 to 'auto' in 1.4. Set the value of `n_init` explicitly to suppress the warning\n",
      "  warnings.warn(\n"
     ]
    }
   ],
   "source": [
    "from sklearn.cluster import KMeans\n",
    "wcss =[]\n",
    "for i in range(1,20):\n",
    "    kmeans= KMeans(n_clusters=i,init='k-means++',random_state = 0)\n",
    "    kmeans.fit(X)\n",
    "    wcss.append(kmeans.inertia_)\n",
    "print(wcss)"
   ]
  },
  {
   "cell_type": "code",
   "execution_count": 36,
   "metadata": {},
   "outputs": [
    {
     "data": {
      "image/png": "[encoded data removed]",
      "text/plain": [
       "<Figure size 640x480 with 1 Axes>"
      ]
     },
     "metadata": {},
     "output_type": "display_data"
    }
   ],
   "source": [
    "# plot grapgh\n",
    "import seaborn as sns \n",
    "sns.set()\n",
    "plt.plot(range(1,20),wcss)\n",
    "plt.title(\"Elbow point graph\")\n",
    "plt.xlabel(\"Number  of clusters\")\n",
    "plt.ylabel(\"WCSS\")\n",
    "plt.show()\n"
   ]
  },
  {
   "cell_type": "code",
   "execution_count": 37,
   "metadata": {},
   "outputs": [
    {
     "name": "stderr",
     "output_type": "stream",
     "text": [
      "C:\\Users\\VARUN\\AppData\\Roaming\\Python\\Python311\\site-packages\\sklearn\\cluster\\_kmeans.py:870: FutureWarning: The default value of `n_init` will change from 10 to 'auto' in 1.4. Set the value of `n_init` explicitly to suppress the warning\n",
      "  warnings.warn(\n"
     ]
    }
   ],
   "source": [
    "\n",
    "kmeans= KMeans(n_clusters=4,init='k-means++',random_state = 42)\n",
    "Y = kmeans.fit_predict(X)"
   ]
  },
  {
   "cell_type": "code",
   "execution_count": 38,
   "metadata": {},
   "outputs": [
    {
     "data": {
      "text/plain": [
       "array([2, 0, 2, 0, 0, 0, 0, 1, 1, 1, 1, 2, 1, 0, 1, 0, 1, 1, 0, 0, 2, 0,\n",
       "       0, 1, 1, 1, 0, 1, 0, 2, 1, 0, 1, 0, 1, 0, 2, 1, 1, 0, 1, 0, 1, 2,\n",
       "       3, 0, 0, 1, 2, 1, 1, 1, 1, 1, 0, 0, 1, 1, 1, 0, 1, 2, 1, 1, 0, 1,\n",
       "       0, 2, 1, 0, 0, 1, 0, 1, 1, 1, 2, 1, 2, 0, 1, 2, 1, 1, 0, 1, 0, 1,\n",
       "       1, 0, 1])"
      ]
     },
     "execution_count": 38,
     "metadata": {},
     "output_type": "execute_result"
    }
   ],
   "source": [
    "Y\n"
   ]
  },
  {
   "cell_type": "code",
   "execution_count": 39,
   "metadata": {},
   "outputs": [
    {
     "data": {
      "text/plain": [
       "2"
      ]
     },
     "execution_count": 39,
     "metadata": {},
     "output_type": "execute_result"
    }
   ],
   "source": [
    "Y[0]"
   ]
  },
  {
   "cell_type": "code",
   "execution_count": 40,
   "metadata": {},
   "outputs": [
    {
     "data": {
      "text/plain": [
       "<function matplotlib.pyplot.show(close=None, block=None)>"
      ]
     },
     "execution_count": 40,
     "metadata": {},
     "output_type": "execute_result"
    },
    {
     "data": {
      "image/png": "[encoded data removed]",
      "text/plain": [
       "<Figure size 800x800 with 1 Axes>"
      ]
     },
     "metadata": {},
     "output_type": "display_data"
    }
   ],
   "source": [
    "plt.figure(figsize=(8,8))\n",
    "plt.scatter(X[Y==0,0],X[Y==0,1],s=60,c='yellow',label='cluster1')\n",
    "plt.scatter(X[Y==1,0],X[Y==1,1],s=60,c='blue',label='cluster2')\n",
    "plt.scatter(X[Y==2,0],X[Y==2,1],s=60,c='violet',label='cluster3')\n",
    "# plt.scatter(X[Y==3,0],X[Y==3,1],s=60,c='red',label='cluster4')\n",
    "\n",
    "plt.scatter(kmeans.cluster_centers_[:,0],kmeans.cluster_centers_[:,1],s=100,c='green',label='centroid')\n",
    "plt.show"
   ]
  },
  {
   "cell_type": "code",
   "execution_count": 41,
   "metadata": {},
   "outputs": [
    {
     "name": "stderr",
     "output_type": "stream",
     "text": [
      "C:\\Users\\VARUN\\AppData\\Local\\Temp\\ipykernel_26992\\2271070662.py:1: FutureWarning: The default value of numeric_only in DataFrame.corr is deprecated. In a future version, it will default to False. Select only valid columns or specify the value of numeric_only to silence this warning.\n",
      "  sns.heatmap(df.corr(),annot=True)\n"
     ]
    },
    {
     "data": {
      "image/png": "[encoded data removed]",
      "text/plain": [
       "<Figure size 640x480 with 2 Axes>"
      ]
     },
     "metadata": {},
     "output_type": "display_data"
    }
   ],
   "source": [
    "sns.heatmap(df.corr(),annot=True)\n",
    "plt.show()"
   ]
  },
  {
   "cell_type": "code",
   "execution_count": 42,
   "metadata": {},
   "outputs": [],
   "source": [
    "from sklearn.ensemble import RandomForestClassifier\n",
    "# from sklearn.metrics import accuracy_score\n",
    "from sklearn.model_selection import train_test_split\n",
    "classifier = RandomForestClassifier(n_estimators=10,criterion='entropy')"
   ]
  },
  {
   "cell_type": "code",
   "execution_count": 43,
   "metadata": {},
   "outputs": [
    {
     "name": "stdout",
     "output_type": "stream",
     "text": [
      "0.04000425338745117\n"
     ]
    }
   ],
   "source": [
    "from time import time\n",
    "start_time =time() \n",
    "classifier.fit(X,Y)\n",
    "end_time=time()\n",
    "print(end_time-start_time)"
   ]
  },
  {
   "cell_type": "code",
   "execution_count": 44,
   "metadata": {},
   "outputs": [
    {
     "name": "stdout",
     "output_type": "stream",
     "text": [
      "0.008003473281860352\n"
     ]
    }
   ],
   "source": [
    "start_time =time() \n",
    "Y_pred = classifier.predict(X)\n",
    "Y_pred\n",
    "end_time=time()\n",
    "print(end_time-start_time)"
   ]
  },
  {
   "cell_type": "code",
   "execution_count": 45,
   "metadata": {},
   "outputs": [
    {
     "name": "stdout",
     "output_type": "stream",
     "text": [
      "0.0\n"
     ]
    }
   ],
   "source": [
    "from sklearn.metrics import mean_squared_error\n",
    "mse = mean_squared_error(Y,Y_pred)\n",
    "print(mse)\n",
    "\n"
   ]
  },
  {
   "cell_type": "code",
   "execution_count": 46,
   "metadata": {},
   "outputs": [
    {
     "name": "stdout",
     "output_type": "stream",
     "text": [
      "0.0\n"
     ]
    }
   ],
   "source": [
    "import math\n",
    "rmse = np.sqrt(mse)\n",
    "print(rmse)"
   ]
  },
  {
   "cell_type": "code",
   "execution_count": 47,
   "metadata": {},
   "outputs": [
    {
     "data": {
      "text/plain": [
       "1.0"
      ]
     },
     "execution_count": 47,
     "metadata": {},
     "output_type": "execute_result"
    }
   ],
   "source": [
    "from sklearn.metrics import accuracy_score\n",
    "accuracy_score(Y,Y_pred)"
   ]
  },
  {
   "cell_type": "code",
   "execution_count": 48,
   "metadata": {},
   "outputs": [],
   "source": [
    "Distance= 0.4\n",
    "Crime_Rate=1\n",
    "CCTV_Cameras = 4"
   ]
  },
  {
   "cell_type": "code",
   "execution_count": 49,
   "metadata": {},
   "outputs": [],
   "source": [
    "test = [[Distance,Crime_Rate,CCTV_Cameras]] "
   ]
  },
  {
   "cell_type": "code",
   "execution_count": 50,
   "metadata": {},
   "outputs": [],
   "source": [
    "def give_pred(test):\n",
    "    prediction = classifier.predict(test)\n",
    "    if prediction==0:\n",
    "        return (\"NEUTRAL \")\n",
    "    elif prediction==1:\n",
    "        return(\"SAFE \")\n",
    "    elif prediction ==2 :\n",
    "        return (\"UNSAFE ROUTE\")"
   ]
  },
  {
   "cell_type": "code",
   "execution_count": 51,
   "metadata": {},
   "outputs": [
    {
     "name": "stdout",
     "output_type": "stream",
     "text": [
      "NEUTRAL \n"
     ]
    }
   ],
   "source": [
    "print(give_pred(test))"
   ]
  },
  {
   "cell_type": "code",
   "execution_count": 52,
   "metadata": {},
   "outputs": [],
   "source": [
    "import pickle\n",
    "# filename = 'Vigilance_mlmodel'"
   ]
  },
  {
   "cell_type": "code",
   "execution_count": 53,
   "metadata": {},
   "outputs": [],
   "source": [
    "with open('vigilanceapp.pkl','wb') as files :\n",
    "    pickle.dump(classifier,files)\n",
    "with open('vigilanceapp.pkl','rb') as f:\n",
    "    lr = pickle.load(f)\n"
   ]
  },
  {
   "cell_type": "code",
   "execution_count": null,
   "metadata": {},
   "outputs": [],
   "source": []
  },
  {
   "cell_type": "code",
   "execution_count": null,
   "metadata": {},
   "outputs": [],
   "source": []
  },
  {
   "cell_type": "code",
   "execution_count": null,
   "metadata": {},
   "outputs": [],
   "source": []
  }
 ],
 "metadata": {
  "kernelspec": {
   "display_name": "Python 3",
   "language": "python",
   "name": "python3"
  },
  "language_info": {
   "codemirror_mode": {
    "name": "ipython",
    "version": 3
   },
   "file_extension": ".py",
   "mimetype": "text/x-python",
   "name": "python",
   "nbconvert_exporter": "python",
   "pygments_lexer": "ipython3",
   "version": "3.11.4"
  },
  "orig_nbformat": 4
 },
 "nbformat": 4,
 "nbformat_minor": 2
}
